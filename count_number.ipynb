{
 "cells": [
  {
   "cell_type": "code",
   "execution_count": 2,
   "id": "98879e3f",
   "metadata": {},
   "outputs": [
    {
     "name": "stdout",
     "output_type": "stream",
     "text": [
      "Number of partitions: 54\n"
     ]
    }
   ],
   "source": [
    "import sys\n",
    "from operator import add\n",
    "\n",
    "from pyspark.sql import SparkSession\n",
    "\n",
    "import findspark\n",
    "findspark.init()\n",
    "\n",
    "filename = \"saida.txt\"\n",
    "\n",
    "if __name__ == \"__main__\":\n",
    "\n",
    "    spark = SparkSession\\\n",
    "        .builder\\\n",
    "        .appName(\"PythonNumberCount\")\\\n",
    "        .master(\"local[*]\")\\\n",
    "        .getOrCreate()\n",
    "\n",
    "    linesRdd = spark.read.text(filename).rdd.map(lambda r: r[0])\n",
    "\n",
    "    print(\"Number of partitions: {}\". format(linesRdd.getNumPartitions()))\n",
    "\n",
    "    counts = linesRdd.flatMap(lambda x: x.split(' ')) \\\n",
    "                  .map(lambda x: (x, 1)) \\\n",
    "                  .reduceByKey(add)"
   ]
  },
  {
   "cell_type": "code",
   "execution_count": null,
   "id": "cf199870",
   "metadata": {},
   "outputs": [],
   "source": [
    "    output = counts.collect()"
   ]
  },
  {
   "cell_type": "code",
   "execution_count": null,
   "id": "c911e89f",
   "metadata": {},
   "outputs": [],
   "source": [
    "    for (number, count) in output:\n",
    "        print(\"%s: %i\" % (number, count))"
   ]
  },
  {
   "cell_type": "code",
   "execution_count": null,
   "id": "f193b9ac",
   "metadata": {},
   "outputs": [],
   "source": [
    "    spark.stop()"
   ]
  }
 ],
 "metadata": {
  "kernelspec": {
   "display_name": "Python 3 (ipykernel)",
   "language": "python",
   "name": "python3"
  },
  "language_info": {
   "codemirror_mode": {
    "name": "ipython",
    "version": 3
   },
   "file_extension": ".py",
   "mimetype": "text/x-python",
   "name": "python",
   "nbconvert_exporter": "python",
   "pygments_lexer": "ipython3",
   "version": "3.10.9"
  }
 },
 "nbformat": 4,
 "nbformat_minor": 5
}
